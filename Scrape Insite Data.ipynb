{
 "cells": [
  {
   "cell_type": "markdown",
   "metadata": {},
   "source": [
    "<h1> VCH Overdose Surveillance Updates </h1>\n",
    "\n",
    "Recursively download and scrape PDFs from : http://www.vch.ca/for-health-professionals/health-data/overdose-surveillance \n",
    "\n",
    "Take text strings and turn into pandas dfs, save as csv"
   ]
  },
  {
   "cell_type": "code",
   "execution_count": 26,
   "metadata": {
    "collapsed": true
   },
   "outputs": [],
   "source": [
    "#import PyPDF2\n",
    "from bs4 import BeautifulSoup, SoupStrainer\n",
    "import pandas as pd\n",
    "import re\n",
    "import requests\n",
    "import urllib"
   ]
  },
  {
   "cell_type": "code",
   "execution_count": 61,
   "metadata": {},
   "outputs": [],
   "source": [
    "def download_pdf(url, destination_folder):\n",
    "    '''\n",
    "    Takes a link to a pdf, and downloads with the formatted url as the name.\n",
    "    url : url of pdf\n",
    "    destination_folder : where you want pdf saved locally\n",
    "    \n",
    "    Use Case:\n",
    "    \n",
    "    download_pdf(links_formatted[0], 'Overdose Surveillance PDFs')\n",
    "    \n",
    "    '''\n",
    "    url = requests.get(url).url  ## In case of redirects for filename reasons\n",
    "    formatted_url = re.split('Documents/', url)[1] ## Formats url to get filenames. Change Documents as needed.\n",
    "    \n",
    "    with open(\"{}/{}\".format(destination_folder, formatted_url), 'wb') as f:\n",
    "        f.write(response.content)"
   ]
  },
  {
   "cell_type": "markdown",
   "metadata": {},
   "source": [
    "<h3> Get links from vch.ca for all the pdfs </h3>"
   ]
  },
  {
   "cell_type": "code",
   "execution_count": 63,
   "metadata": {},
   "outputs": [
    {
     "data": {
      "text/plain": [
       "['http://www.vch.ca/_layouts/15/DocIdRedir.aspx?ID=VCHCA-1797567310-1737',\n",
       " 'http://www.vch.ca/_layouts/15/DocIdRedir.aspx?ID=VCHCA-1797567310-1734',\n",
       " 'http://www.vch.ca/_layouts/15/DocIdRedir.aspx?ID=VCHCA-1797567310-1332',\n",
       " 'http://www.vch.ca/_layouts/15/DocIdRedir.aspx?ID=VCHCA-1797567310-1717',\n",
       " 'http://www.vch.ca/_layouts/15/DocIdRedir.aspx?ID=VCHCA-1797567310-1708']"
      ]
     },
     "execution_count": 63,
     "metadata": {},
     "output_type": "execute_result"
    }
   ],
   "source": [
    "main_url = \"http://www.vch.ca/for-health-professionals/health-data/overdose-surveillance\"\n",
    "\n",
    "html_content = requests.get(main_url).text\n",
    "soup = BeautifulSoup(html_content, 'lxml')\n",
    "links = [a.get('href') for a in soup.find_all('a', href=True)]\n",
    "links = [link for link in links if 'layout' in link] ## pdf links redirect, accounted for in download_pdf function\n",
    "links_formatted = ['http://www.vch.ca'+link for link in links]\n",
    "links_formatted[:5]\n"
   ]
  },
  {
   "cell_type": "markdown",
   "metadata": {},
   "source": [
    "<h3> Recursively download all pdfs </h3>"
   ]
  },
  {
   "cell_type": "code",
   "execution_count": 66,
   "metadata": {},
   "outputs": [],
   "source": [
    "from IPython import display"
   ]
  },
  {
   "cell_type": "code",
   "execution_count": 68,
   "metadata": {},
   "outputs": [
    {
     "name": "stdout",
     "output_type": "stream",
     "text": [
      "Starting: 90/90\n"
     ]
    }
   ],
   "source": [
    "counter = 1\n",
    "for pdf in links_formatted:\n",
    "    display.clear_output()\n",
    "    print(\"Starting: {}/{}\".format(counter, len(links_formatted)))\n",
    "    download_pdf(pdf, 'Overdose Surveillance PDFs')\n",
    "    counter +=1"
   ]
  },
  {
   "cell_type": "markdown",
   "metadata": {},
   "source": [
    "<h2> Scrape PDFs </h2>"
   ]
  },
  {
   "cell_type": "code",
   "execution_count": null,
   "metadata": {
    "collapsed": true
   },
   "outputs": [],
   "source": []
  }
 ],
 "metadata": {},
 "nbformat": 4,
 "nbformat_minor": 2
}
